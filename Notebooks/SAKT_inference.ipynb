{
 "cells": [
  {
   "cell_type": "markdown",
   "metadata": {
    "papermill": {
     "duration": 0.008987,
     "end_time": "2020-12-29T02:27:53.368025",
     "exception": false,
     "start_time": "2020-12-29T02:27:53.359038",
     "status": "completed"
    },
    "tags": []
   },
   "source": [
    "# RIIID - SAKT Model Inference"
   ]
  },
  {
   "cell_type": "code",
   "execution_count": 1,
   "metadata": {
    "_cell_guid": "79c7e3d0-c299-4dcb-8224-4455121ee9b0",
    "_uuid": "d629ff2d2480ee46fbb7e2d37f6b5fab8052498a",
    "execution": {
     "iopub.execute_input": "2020-12-29T02:27:53.391013Z",
     "iopub.status.busy": "2020-12-29T02:27:53.390151Z",
     "iopub.status.idle": "2020-12-29T02:27:55.016106Z",
     "shell.execute_reply": "2020-12-29T02:27:55.017385Z"
    },
    "papermill": {
     "duration": 1.641083,
     "end_time": "2020-12-29T02:27:55.017605",
     "exception": false,
     "start_time": "2020-12-29T02:27:53.376522",
     "status": "completed"
    },
    "tags": []
   },
   "outputs": [],
   "source": [
    "import riiideducation\n",
    "import psutil\n",
    "import joblib\n",
    "import torch\n",
    "\n",
    "import numpy as np\n",
    "import pandas as pd\n",
    "import torch.nn as nn\n",
    "\n",
    "from torch.utils.data import Dataset, DataLoader"
   ]
  },
  {
   "cell_type": "code",
   "execution_count": 2,
   "metadata": {
    "execution": {
     "iopub.execute_input": "2020-12-29T02:27:55.052051Z",
     "iopub.status.busy": "2020-12-29T02:27:55.050668Z",
     "iopub.status.idle": "2020-12-29T02:27:55.085210Z",
     "shell.execute_reply": "2020-12-29T02:27:55.086242Z"
    },
    "papermill": {
     "duration": 0.055409,
     "end_time": "2020-12-29T02:27:55.086449",
     "exception": false,
     "start_time": "2020-12-29T02:27:55.031040",
     "status": "completed"
    },
    "tags": []
   },
   "outputs": [],
   "source": [
    "env = riiideducation.make_env()\n",
    "iter_test = env.iter_test()"
   ]
  },
  {
   "source": [
    "## SAKT model"
   ],
   "cell_type": "markdown",
   "metadata": {}
  },
  {
   "cell_type": "code",
   "execution_count": 3,
   "metadata": {
    "execution": {
     "iopub.execute_input": "2020-12-29T02:27:55.119340Z",
     "iopub.status.busy": "2020-12-29T02:27:55.118307Z",
     "iopub.status.idle": "2020-12-29T02:27:55.121096Z",
     "shell.execute_reply": "2020-12-29T02:27:55.120295Z"
    },
    "papermill": {
     "duration": 0.022354,
     "end_time": "2020-12-29T02:27:55.121254",
     "exception": false,
     "start_time": "2020-12-29T02:27:55.098900",
     "status": "completed"
    },
    "tags": []
   },
   "outputs": [],
   "source": [
    "MAX_SEQ = 100"
   ]
  },
  {
   "cell_type": "code",
   "execution_count": 4,
   "metadata": {
    "execution": {
     "iopub.execute_input": "2020-12-29T02:27:55.158927Z",
     "iopub.status.busy": "2020-12-29T02:27:55.158127Z",
     "iopub.status.idle": "2020-12-29T02:27:55.182869Z",
     "shell.execute_reply": "2020-12-29T02:27:55.183952Z"
    },
    "papermill": {
     "duration": 0.049449,
     "end_time": "2020-12-29T02:27:55.184110",
     "exception": false,
     "start_time": "2020-12-29T02:27:55.134661",
     "status": "completed"
    },
    "tags": []
   },
   "outputs": [],
   "source": [
    "class FFN(nn.Module):\n",
    "    def __init__(self, state_size=200):\n",
    "        super(FFN, self).__init__()\n",
    "        self.state_size = state_size\n",
    "\n",
    "        self.lr1 = nn.Linear(state_size, state_size)\n",
    "        self.relu = nn.ReLU()\n",
    "        self.lr2 = nn.Linear(state_size, state_size)\n",
    "        self.dropout = nn.Dropout(0.2)\n",
    "    \n",
    "    def forward(self, x):\n",
    "        x = self.lr1(x)\n",
    "        x = self.relu(x)\n",
    "        x = self.lr2(x)\n",
    "        return self.dropout(x)\n",
    "\n",
    "def future_mask(seq_length):\n",
    "    future_mask = np.triu(np.ones((seq_length, seq_length)), k=1).astype('bool')\n",
    "    return torch.from_numpy(future_mask)\n",
    "\n",
    "\n",
    "class SAKTModel(nn.Module):\n",
    "    def __init__(self, n_skill, max_seq=MAX_SEQ, embed_dim=128):\n",
    "        super(SAKTModel, self).__init__()\n",
    "        self.n_skill = n_skill\n",
    "        self.embed_dim = embed_dim\n",
    "\n",
    "        self.embedding = nn.Embedding(2*n_skill+1, embed_dim)\n",
    "        self.pos_embedding = nn.Embedding(max_seq-1, embed_dim)\n",
    "        self.e_embedding = nn.Embedding(n_skill+1, embed_dim)\n",
    "\n",
    "        self.multi_att = nn.MultiheadAttention(embed_dim=embed_dim, num_heads=8, dropout=0.2)\n",
    "\n",
    "        self.dropout = nn.Dropout(0.2)\n",
    "        self.layer_normal = nn.LayerNorm(embed_dim) \n",
    "\n",
    "        self.ffn = FFN(embed_dim)\n",
    "        self.pred = nn.Linear(embed_dim, 1)\n",
    "    \n",
    "    def forward(self, x, question_ids):\n",
    "        device = x.device        \n",
    "        x = self.embedding(x)\n",
    "        pos_id = torch.arange(x.size(1)).unsqueeze(0).to(device)\n",
    "\n",
    "        pos_x = self.pos_embedding(pos_id)\n",
    "        x = x + pos_x\n",
    "\n",
    "        e = self.e_embedding(question_ids)\n",
    "\n",
    "        x = x.permute(1, 0, 2)\n",
    "        e = e.permute(1, 0, 2)\n",
    "        att_mask = future_mask(x.size(0)).to(device)\n",
    "        att_output, att_weight = self.multi_att(e, x, x, attn_mask=att_mask)\n",
    "        att_output = self.layer_normal(att_output + e)\n",
    "        att_output = att_output.permute(1, 0, 2) \n",
    "\n",
    "        x = self.ffn(att_output)\n",
    "        x = self.layer_normal(x + att_output)\n",
    "        x = self.pred(x)\n",
    "\n",
    "        return x.squeeze(-1), att_weight"
   ]
  },
  {
   "cell_type": "markdown",
   "metadata": {
    "papermill": {
     "duration": 0.012378,
     "end_time": "2020-12-29T02:27:55.209486",
     "exception": false,
     "start_time": "2020-12-29T02:27:55.197108",
     "status": "completed"
    },
    "tags": []
   },
   "source": [
    "## Load Pretrained Models"
   ]
  },
  {
   "cell_type": "code",
   "execution_count": 5,
   "metadata": {
    "execution": {
     "iopub.execute_input": "2020-12-29T02:27:55.241771Z",
     "iopub.status.busy": "2020-12-29T02:27:55.240910Z",
     "iopub.status.idle": "2020-12-29T02:28:11.546248Z",
     "shell.execute_reply": "2020-12-29T02:28:11.547097Z"
    },
    "papermill": {
     "duration": 16.324722,
     "end_time": "2020-12-29T02:28:11.547286",
     "exception": false,
     "start_time": "2020-12-29T02:27:55.222564",
     "status": "completed"
    },
    "tags": []
   },
   "outputs": [],
   "source": [
    "skills = joblib.load(\"/kaggle/input/riiid-sakt-model-dataset-public/skills.pkl.zip\")\n",
    "n_skill = len(skills)\n",
    "group = joblib.load(\"/kaggle/input/riiid-sakt-model-dataset-public/group.pkl.zip\")"
   ]
  },
  {
   "cell_type": "code",
   "execution_count": 6,
   "metadata": {
    "execution": {
     "iopub.execute_input": "2020-12-29T02:28:11.583930Z",
     "iopub.status.busy": "2020-12-29T02:28:11.582993Z",
     "iopub.status.idle": "2020-12-29T02:28:17.308500Z",
     "shell.execute_reply": "2020-12-29T02:28:17.307382Z"
    },
    "papermill": {
     "duration": 5.747269,
     "end_time": "2020-12-29T02:28:17.308640",
     "exception": false,
     "start_time": "2020-12-29T02:28:11.561371",
     "status": "completed"
    },
    "tags": []
   },
   "outputs": [
    {
     "data": {
      "text/plain": [
       "SAKTModel(\n",
       "  (embedding): Embedding(27047, 128)\n",
       "  (pos_embedding): Embedding(99, 128)\n",
       "  (e_embedding): Embedding(13524, 128)\n",
       "  (multi_att): MultiheadAttention(\n",
       "    (out_proj): _LinearWithBias(in_features=128, out_features=128, bias=True)\n",
       "  )\n",
       "  (dropout): Dropout(p=0.2, inplace=False)\n",
       "  (layer_normal): LayerNorm((128,), eps=1e-05, elementwise_affine=True)\n",
       "  (ffn): FFN(\n",
       "    (lr1): Linear(in_features=128, out_features=128, bias=True)\n",
       "    (relu): ReLU()\n",
       "    (lr2): Linear(in_features=128, out_features=128, bias=True)\n",
       "    (dropout): Dropout(p=0.2, inplace=False)\n",
       "  )\n",
       "  (pred): Linear(in_features=128, out_features=1, bias=True)\n",
       ")"
      ]
     },
     "execution_count": 6,
     "metadata": {},
     "output_type": "execute_result"
    }
   ],
   "source": [
    "device = torch.device(\"cuda\" if torch.cuda.is_available() else \"cpu\")\n",
    "\n",
    "model = SAKTModel(n_skill, embed_dim=128)\n",
    "try:\n",
    "    model.load_state_dict(torch.load(\"/kaggle/input/riiid-sakt-model-dataset-public/sakt_model.pt\"))\n",
    "except:\n",
    "    model.load_state_dict(torch.load(\"/kaggle/input/riiid-sakt-model-dataset-public/sakt_model.pt\", map_location='cpu'))\n",
    "model.to(device)\n",
    "model.eval()"
   ]
  },
  {
   "cell_type": "markdown",
   "metadata": {
    "papermill": {
     "duration": 0.010419,
     "end_time": "2020-12-29T02:28:17.330068",
     "exception": false,
     "start_time": "2020-12-29T02:28:17.319649",
     "status": "completed"
    },
    "tags": []
   },
   "source": [
    "## Inference"
   ]
  },
  {
   "cell_type": "code",
   "execution_count": 7,
   "metadata": {
    "execution": {
     "iopub.execute_input": "2020-12-29T02:28:17.365493Z",
     "iopub.status.busy": "2020-12-29T02:28:17.364540Z",
     "iopub.status.idle": "2020-12-29T02:28:17.366977Z",
     "shell.execute_reply": "2020-12-29T02:28:17.367532Z"
    },
    "papermill": {
     "duration": 0.027782,
     "end_time": "2020-12-29T02:28:17.367643",
     "exception": false,
     "start_time": "2020-12-29T02:28:17.339861",
     "status": "completed"
    },
    "tags": []
   },
   "outputs": [],
   "source": [
    "class TestDataset(Dataset):\n",
    "    def __init__(self, samples, test_df, skills, max_seq=MAX_SEQ): \n",
    "        super(TestDataset, self).__init__()\n",
    "        self.samples = samples\n",
    "        self.user_ids = [x for x in test_df[\"user_id\"].unique()]\n",
    "        self.test_df = test_df\n",
    "        self.skills = skills\n",
    "        self.n_skill = len(skills)\n",
    "        self.max_seq = max_seq\n",
    "\n",
    "    def __len__(self):\n",
    "        return self.test_df.shape[0]\n",
    "\n",
    "    def __getitem__(self, index):\n",
    "        test_info = self.test_df.iloc[index]\n",
    "\n",
    "        user_id = test_info[\"user_id\"]\n",
    "        target_id = test_info[\"content_id\"]\n",
    "\n",
    "        q = np.zeros(self.max_seq, dtype=int)\n",
    "        qa = np.zeros(self.max_seq, dtype=int)\n",
    "\n",
    "        if user_id in self.samples.index:\n",
    "            q_, qa_ = self.samples[user_id]\n",
    "            \n",
    "            seq_len = len(q_)\n",
    "\n",
    "            if seq_len >= self.max_seq:\n",
    "                q = q_[-self.max_seq:]\n",
    "                qa = qa_[-self.max_seq:]\n",
    "            else:\n",
    "                q[-seq_len:] = q_\n",
    "                qa[-seq_len:] = qa_          \n",
    "        \n",
    "        x = np.zeros(self.max_seq-1, dtype=int)\n",
    "        x = q[1:].copy()\n",
    "        x += (qa[1:] == 1) * self.n_skill\n",
    "        \n",
    "        questions = np.append(q[2:], [target_id])\n",
    "        \n",
    "        return x, questions"
   ]
  },
  {
   "cell_type": "code",
   "execution_count": 8,
   "metadata": {
    "execution": {
     "iopub.execute_input": "2020-12-29T02:28:17.407071Z",
     "iopub.status.busy": "2020-12-29T02:28:17.406438Z",
     "iopub.status.idle": "2020-12-29T02:28:18.911161Z",
     "shell.execute_reply": "2020-12-29T02:28:18.909535Z"
    },
    "papermill": {
     "duration": 1.533635,
     "end_time": "2020-12-29T02:28:18.911294",
     "exception": false,
     "start_time": "2020-12-29T02:28:17.377659",
     "status": "completed"
    },
    "tags": []
   },
   "outputs": [],
   "source": [
    "prev_test_df = None\n",
    "\n",
    "for (test_df, sample_prediction_df) in iter_test:\n",
    "    if (prev_test_df is not None) & (psutil.virtual_memory().percent < 90):\n",
    "        prev_test_df['answered_correctly'] = eval(test_df['prior_group_answers_correct'].iloc[0])\n",
    "        prev_test_df = prev_test_df[prev_test_df.content_type_id == False]\n",
    "        \n",
    "        prev_group = prev_test_df[['user_id', 'content_id', 'answered_correctly']].groupby('user_id').apply(lambda r: (\n",
    "            r['content_id'].values,\n",
    "            r['answered_correctly'].values))\n",
    "        for prev_user_id in prev_group.index:\n",
    "            if prev_user_id in group.index:\n",
    "                group[prev_user_id] = (\n",
    "                    np.append(group[prev_user_id][0], prev_group[prev_user_id][0])[-MAX_SEQ:], \n",
    "                    np.append(group[prev_user_id][1], prev_group[prev_user_id][1])[-MAX_SEQ:]\n",
    "                )\n",
    " \n",
    "            else:\n",
    "                group[prev_user_id] = (\n",
    "                    prev_group[prev_user_id][0], \n",
    "                    prev_group[prev_user_id][1]\n",
    "                )\n",
    "\n",
    "    prev_test_df = test_df.copy()\n",
    "    \n",
    "    test_df = test_df[test_df.content_type_id == False]\n",
    "    test_dataset = TestDataset(group, test_df, skills)\n",
    "    test_dataloader = DataLoader(test_dataset, batch_size=51200, shuffle=False)\n",
    "    \n",
    "    outs = []\n",
    "\n",
    "    for item in test_dataloader:\n",
    "        x = item[0].to(device).long()\n",
    "        target_id = item[1].to(device).long()\n",
    "\n",
    "        with torch.no_grad():\n",
    "            output, att_weight = model(x, target_id)\n",
    "        outs.extend(torch.sigmoid(output)[:, -1].view(-1).data.cpu().numpy())\n",
    "        \n",
    "    test_df['answered_correctly'] = outs\n",
    "    env.predict(test_df.loc[test_df['content_type_id'] == 0, ['row_id', 'answered_correctly']])"
   ]
  },
  {
   "cell_type": "markdown",
   "metadata": {
    "papermill": {
     "duration": 0.010532,
     "end_time": "2020-12-29T02:28:18.933159",
     "exception": false,
     "start_time": "2020-12-29T02:28:18.922627",
     "status": "completed"
    },
    "tags": []
   },
   "source": [
    "---"
   ]
  }
 ],
 "metadata": {
  "kernelspec": {
   "display_name": "Python 3",
   "language": "python",
   "name": "python3"
  },
  "language_info": {
   "codemirror_mode": {
    "name": "ipython",
    "version": 3
   },
   "file_extension": ".py",
   "mimetype": "text/x-python",
   "name": "python",
   "nbconvert_exporter": "python",
   "pygments_lexer": "ipython3",
   "version": "3.7.6"
  },
  "papermill": {
   "duration": 30.821666,
   "end_time": "2020-12-29T02:28:19.452083",
   "environment_variables": {},
   "exception": null,
   "input_path": "__notebook__.ipynb",
   "output_path": "__notebook__.ipynb",
   "parameters": {},
   "start_time": "2020-12-29T02:27:48.630417",
   "version": "2.1.0"
  }
 },
 "nbformat": 4,
 "nbformat_minor": 4
}